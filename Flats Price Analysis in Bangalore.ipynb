{
 "cells": [
  {
   "cell_type": "markdown",
   "id": "81e7f084",
   "metadata": {},
   "source": [
    "#  Flats Price Analysis in Bangalore"
   ]
  },
  {
   "cell_type": "markdown",
   "id": "99b8f72a",
   "metadata": {},
   "source": [
    "## problem statement\n",
    "- Analysing flats availability and budget.\n",
    "  - Based on BHK, Area_sqft,Price_Per_sqft,Total_Price,Location and Construction_Status\n"
   ]
  },
  {
   "cell_type": "markdown",
   "id": "e0c5d1fc",
   "metadata": {},
   "source": [
    "## Importing required packages\n"
   ]
  },
  {
   "cell_type": "code",
   "execution_count": 1,
   "id": "be7633fe",
   "metadata": {},
   "outputs": [],
   "source": [
    "import pandas as pd                 # For reading a dataframe and used to parform row and column operations\n",
    "import numpy as np                  # Used for arthematic operations on dataframe\n",
    "import matplotlib.pyplot as plt     # It is useful for graphs and plots\n",
    "import seaborn as sb                # Used for Visualization"
   ]
  },
  {
   "cell_type": "markdown",
   "id": "1475e9a0",
   "metadata": {},
   "source": [
    "# Data Cleaning"
   ]
  },
  {
   "cell_type": "code",
   "execution_count": 2,
   "id": "cecbd043",
   "metadata": {},
   "outputs": [],
   "source": [
    "# Reading/loading the dataset\n",
    "bangalore_flats=pd.read_csv(\"C:/Users/vijay/Downloads/bangalore_properties.csv\")"
   ]
  },
  {
   "cell_type": "code",
   "execution_count": 3,
   "id": "0ac44217",
   "metadata": {},
   "outputs": [
    {
     "data": {
      "text/html": [
       "<div>\n",
       "<style scoped>\n",
       "    .dataframe tbody tr th:only-of-type {\n",
       "        vertical-align: middle;\n",
       "    }\n",
       "\n",
       "    .dataframe tbody tr th {\n",
       "        vertical-align: top;\n",
       "    }\n",
       "\n",
       "    .dataframe thead th {\n",
       "        text-align: right;\n",
       "    }\n",
       "</style>\n",
       "<table border=\"1\" class=\"dataframe\">\n",
       "  <thead>\n",
       "    <tr style=\"text-align: right;\">\n",
       "      <th></th>\n",
       "      <th>Unnamed: 0</th>\n",
       "      <th>Builder</th>\n",
       "      <th>BHK</th>\n",
       "      <th>Area_sqft</th>\n",
       "      <th>Price_Per_sqft</th>\n",
       "      <th>Total_Price</th>\n",
       "      <th>Unit</th>\n",
       "      <th>Location</th>\n",
       "      <th>Construction_Status</th>\n",
       "    </tr>\n",
       "  </thead>\n",
       "  <tbody>\n",
       "    <tr>\n",
       "      <th>0</th>\n",
       "      <td>0</td>\n",
       "      <td>Trishul Builders And Promoters</td>\n",
       "      <td>2.0</td>\n",
       "      <td>1210</td>\n",
       "      <td>3,376 / sq ft</td>\n",
       "      <td>40.84</td>\n",
       "      <td>L</td>\n",
       "      <td>Sompura</td>\n",
       "      <td>Under Construction</td>\n",
       "    </tr>\n",
       "    <tr>\n",
       "      <th>1</th>\n",
       "      <td>1</td>\n",
       "      <td>Anuraag Constructions</td>\n",
       "      <td>3.0</td>\n",
       "      <td>1520</td>\n",
       "      <td>5,120 / sq ft</td>\n",
       "      <td>77.83</td>\n",
       "      <td>L</td>\n",
       "      <td>Varthur</td>\n",
       "      <td>Under Construction</td>\n",
       "    </tr>\n",
       "    <tr>\n",
       "      <th>2</th>\n",
       "      <td>2</td>\n",
       "      <td>SNN Estates</td>\n",
       "      <td>4.0</td>\n",
       "      <td>2275</td>\n",
       "      <td>6,731 / sq ft</td>\n",
       "      <td>1.53</td>\n",
       "      <td>Cr</td>\n",
       "      <td>Bettadasanapura</td>\n",
       "      <td>Under Construction</td>\n",
       "    </tr>\n",
       "    <tr>\n",
       "      <th>3</th>\n",
       "      <td>3</td>\n",
       "      <td>Vara Constructions</td>\n",
       "      <td>3.0</td>\n",
       "      <td>1845</td>\n",
       "      <td>5,435 / sq ft</td>\n",
       "      <td>1.00</td>\n",
       "      <td>Cr</td>\n",
       "      <td>Uttarahalli</td>\n",
       "      <td>Ready to move</td>\n",
       "    </tr>\n",
       "    <tr>\n",
       "      <th>4</th>\n",
       "      <td>4</td>\n",
       "      <td>S B Urbanscapes</td>\n",
       "      <td>3.0</td>\n",
       "      <td>1770</td>\n",
       "      <td>7,459 / sq ft</td>\n",
       "      <td>1.32</td>\n",
       "      <td>Cr</td>\n",
       "      <td>Uttarahalli</td>\n",
       "      <td>Under Construction</td>\n",
       "    </tr>\n",
       "    <tr>\n",
       "      <th>...</th>\n",
       "      <td>...</td>\n",
       "      <td>...</td>\n",
       "      <td>...</td>\n",
       "      <td>...</td>\n",
       "      <td>...</td>\n",
       "      <td>...</td>\n",
       "      <td>...</td>\n",
       "      <td>...</td>\n",
       "      <td>...</td>\n",
       "    </tr>\n",
       "    <tr>\n",
       "      <th>2355</th>\n",
       "      <td>2355</td>\n",
       "      <td>Elite Lifespaces</td>\n",
       "      <td>3.0</td>\n",
       "      <td>2000</td>\n",
       "      <td>9,750 / sq ft</td>\n",
       "      <td>1.95</td>\n",
       "      <td>Cr</td>\n",
       "      <td>Chamrajpet</td>\n",
       "      <td>Ready to move</td>\n",
       "    </tr>\n",
       "    <tr>\n",
       "      <th>2356</th>\n",
       "      <td>2356</td>\n",
       "      <td>Elite Lifespaces</td>\n",
       "      <td>1.0</td>\n",
       "      <td>660</td>\n",
       "      <td>10,303 / sq ft</td>\n",
       "      <td>68.00</td>\n",
       "      <td>L</td>\n",
       "      <td>Chamrajpet</td>\n",
       "      <td>Ready to move</td>\n",
       "    </tr>\n",
       "    <tr>\n",
       "      <th>2357</th>\n",
       "      <td>2357</td>\n",
       "      <td>Elite Lifespaces</td>\n",
       "      <td>2.0</td>\n",
       "      <td>1350</td>\n",
       "      <td>8,518 / sq ft</td>\n",
       "      <td>1.15</td>\n",
       "      <td>Cr</td>\n",
       "      <td>Chamrajpet</td>\n",
       "      <td>Ready to move</td>\n",
       "    </tr>\n",
       "    <tr>\n",
       "      <th>2358</th>\n",
       "      <td>2358</td>\n",
       "      <td>Elite Lifespaces</td>\n",
       "      <td>2.0</td>\n",
       "      <td>1455</td>\n",
       "      <td>9,278 / sq ft</td>\n",
       "      <td>1.35</td>\n",
       "      <td>Cr</td>\n",
       "      <td>Chamrajpet</td>\n",
       "      <td>Ready to move</td>\n",
       "    </tr>\n",
       "    <tr>\n",
       "      <th>2359</th>\n",
       "      <td>2359</td>\n",
       "      <td>Elite Lifespaces</td>\n",
       "      <td>3.0</td>\n",
       "      <td>2465</td>\n",
       "      <td>10,344 / sq ft</td>\n",
       "      <td>2.55</td>\n",
       "      <td>Cr</td>\n",
       "      <td>Chamrajpet</td>\n",
       "      <td>Ready to move</td>\n",
       "    </tr>\n",
       "  </tbody>\n",
       "</table>\n",
       "<p>2360 rows × 9 columns</p>\n",
       "</div>"
      ],
      "text/plain": [
       "      Unnamed: 0                         Builder  BHK  Area_sqft  \\\n",
       "0              0  Trishul Builders And Promoters  2.0       1210   \n",
       "1              1           Anuraag Constructions  3.0       1520   \n",
       "2              2                     SNN Estates  4.0       2275   \n",
       "3              3              Vara Constructions  3.0       1845   \n",
       "4              4                 S B Urbanscapes  3.0       1770   \n",
       "...          ...                             ...  ...        ...   \n",
       "2355        2355                Elite Lifespaces  3.0       2000   \n",
       "2356        2356                Elite Lifespaces  1.0        660   \n",
       "2357        2357                Elite Lifespaces  2.0       1350   \n",
       "2358        2358                Elite Lifespaces  2.0       1455   \n",
       "2359        2359                Elite Lifespaces  3.0       2465   \n",
       "\n",
       "      Price_Per_sqft  Total_Price Unit         Location Construction_Status  \n",
       "0      3,376 / sq ft        40.84    L          Sompura  Under Construction  \n",
       "1      5,120 / sq ft        77.83    L          Varthur  Under Construction  \n",
       "2      6,731 / sq ft         1.53   Cr  Bettadasanapura  Under Construction  \n",
       "3      5,435 / sq ft         1.00   Cr      Uttarahalli       Ready to move  \n",
       "4      7,459 / sq ft         1.32   Cr      Uttarahalli  Under Construction  \n",
       "...              ...          ...  ...              ...                 ...  \n",
       "2355   9,750 / sq ft         1.95   Cr       Chamrajpet       Ready to move  \n",
       "2356  10,303 / sq ft        68.00    L       Chamrajpet       Ready to move  \n",
       "2357   8,518 / sq ft         1.15   Cr       Chamrajpet       Ready to move  \n",
       "2358   9,278 / sq ft         1.35   Cr       Chamrajpet       Ready to move  \n",
       "2359  10,344 / sq ft         2.55   Cr       Chamrajpet       Ready to move  \n",
       "\n",
       "[2360 rows x 9 columns]"
      ]
     },
     "execution_count": 3,
     "metadata": {},
     "output_type": "execute_result"
    }
   ],
   "source": [
    "bangalore_flats"
   ]
  },
  {
   "cell_type": "code",
   "execution_count": 4,
   "id": "fd2ee2fa",
   "metadata": {},
   "outputs": [],
   "source": [
    "# As we can see the unnamed column and index are same os we drop the unnamed column\n",
    "bangalore_flats.drop('Unnamed: 0',inplace=True,axis=1)"
   ]
  },
  {
   "cell_type": "code",
   "execution_count": 5,
   "id": "60b2052a",
   "metadata": {},
   "outputs": [],
   "source": [
    "# getting only the price in price_per_sqft\n",
    "g=[]    \n",
    "for i in range(len(bangalore_flats)):\n",
    "    g.append(bangalore_flats['Price_Per_sqft'][i][:-8])\n",
    "bangalore_flats['Price_Per_sqft']=g"
   ]
  },
  {
   "cell_type": "code",
   "execution_count": 6,
   "id": "968c0ad5",
   "metadata": {},
   "outputs": [],
   "source": [
    "# Removing the , from the price_per_sqft column\n",
    "q=[]\n",
    "for i in range(len(bangalore_flats)):    \n",
    "    n=bangalore_flats['Price_Per_sqft'][i].split(',')\n",
    "    q.append(\"\".join(n))\n",
    "bangalore_flats['Price_Per_sqft']=q"
   ]
  },
  {
   "cell_type": "code",
   "execution_count": 7,
   "id": "04869a26",
   "metadata": {},
   "outputs": [
    {
     "data": {
      "text/html": [
       "<div>\n",
       "<style scoped>\n",
       "    .dataframe tbody tr th:only-of-type {\n",
       "        vertical-align: middle;\n",
       "    }\n",
       "\n",
       "    .dataframe tbody tr th {\n",
       "        vertical-align: top;\n",
       "    }\n",
       "\n",
       "    .dataframe thead th {\n",
       "        text-align: right;\n",
       "    }\n",
       "</style>\n",
       "<table border=\"1\" class=\"dataframe\">\n",
       "  <thead>\n",
       "    <tr style=\"text-align: right;\">\n",
       "      <th></th>\n",
       "      <th>Builder</th>\n",
       "      <th>BHK</th>\n",
       "      <th>Area_sqft</th>\n",
       "      <th>Price_Per_sqft</th>\n",
       "      <th>Total_Price</th>\n",
       "      <th>Unit</th>\n",
       "      <th>Location</th>\n",
       "      <th>Construction_Status</th>\n",
       "    </tr>\n",
       "  </thead>\n",
       "  <tbody>\n",
       "    <tr>\n",
       "      <th>0</th>\n",
       "      <td>Trishul Builders And Promoters</td>\n",
       "      <td>2.0</td>\n",
       "      <td>1210</td>\n",
       "      <td>3376</td>\n",
       "      <td>40.84</td>\n",
       "      <td>L</td>\n",
       "      <td>Sompura</td>\n",
       "      <td>Under Construction</td>\n",
       "    </tr>\n",
       "    <tr>\n",
       "      <th>1</th>\n",
       "      <td>Anuraag Constructions</td>\n",
       "      <td>3.0</td>\n",
       "      <td>1520</td>\n",
       "      <td>5120</td>\n",
       "      <td>77.83</td>\n",
       "      <td>L</td>\n",
       "      <td>Varthur</td>\n",
       "      <td>Under Construction</td>\n",
       "    </tr>\n",
       "    <tr>\n",
       "      <th>2</th>\n",
       "      <td>SNN Estates</td>\n",
       "      <td>4.0</td>\n",
       "      <td>2275</td>\n",
       "      <td>6731</td>\n",
       "      <td>1.53</td>\n",
       "      <td>Cr</td>\n",
       "      <td>Bettadasanapura</td>\n",
       "      <td>Under Construction</td>\n",
       "    </tr>\n",
       "    <tr>\n",
       "      <th>3</th>\n",
       "      <td>Vara Constructions</td>\n",
       "      <td>3.0</td>\n",
       "      <td>1845</td>\n",
       "      <td>5435</td>\n",
       "      <td>1.00</td>\n",
       "      <td>Cr</td>\n",
       "      <td>Uttarahalli</td>\n",
       "      <td>Ready to move</td>\n",
       "    </tr>\n",
       "    <tr>\n",
       "      <th>4</th>\n",
       "      <td>S B Urbanscapes</td>\n",
       "      <td>3.0</td>\n",
       "      <td>1770</td>\n",
       "      <td>7459</td>\n",
       "      <td>1.32</td>\n",
       "      <td>Cr</td>\n",
       "      <td>Uttarahalli</td>\n",
       "      <td>Under Construction</td>\n",
       "    </tr>\n",
       "  </tbody>\n",
       "</table>\n",
       "</div>"
      ],
      "text/plain": [
       "                          Builder  BHK  Area_sqft Price_Per_sqft  Total_Price  \\\n",
       "0  Trishul Builders And Promoters  2.0       1210           3376        40.84   \n",
       "1           Anuraag Constructions  3.0       1520           5120        77.83   \n",
       "2                     SNN Estates  4.0       2275           6731         1.53   \n",
       "3              Vara Constructions  3.0       1845           5435         1.00   \n",
       "4                 S B Urbanscapes  3.0       1770           7459         1.32   \n",
       "\n",
       "  Unit         Location Construction_Status  \n",
       "0    L          Sompura  Under Construction  \n",
       "1    L          Varthur  Under Construction  \n",
       "2   Cr  Bettadasanapura  Under Construction  \n",
       "3   Cr      Uttarahalli       Ready to move  \n",
       "4   Cr      Uttarahalli  Under Construction  "
      ]
     },
     "execution_count": 7,
     "metadata": {},
     "output_type": "execute_result"
    }
   ],
   "source": [
    "bangalore_flats.head()"
   ]
  },
  {
   "cell_type": "code",
   "execution_count": 8,
   "id": "9e8e4328",
   "metadata": {},
   "outputs": [],
   "source": [
    "u=[]\n",
    "for i in range(len(bangalore_flats)):    \n",
    "   u.append( bangalore_flats['Unit'][i].strip())\n",
    "bangalore_flats['Unit']=u"
   ]
  },
  {
   "cell_type": "code",
   "execution_count": 9,
   "id": "7080f24e",
   "metadata": {
    "scrolled": true
   },
   "outputs": [],
   "source": [
    "#In the dataframe the price column is the total price of the property with the corresponding to the unit column where L = Lakhs and Cr = Croreprice is in rupees\n",
    "bangalore_flats['Unit'].replace('Cr',100,inplace=True)\n",
    "bangalore_flats['Unit'].replace('L',1,inplace=True)\n"
   ]
  },
  {
   "cell_type": "code",
   "execution_count": 10,
   "id": "143210f9",
   "metadata": {},
   "outputs": [],
   "source": [
    "# Here we are converting the price of the properties into lakhs \n",
    "bangalore_flats['Total_Price']=bangalore_flats['Total_Price']*bangalore_flats['Unit']"
   ]
  },
  {
   "cell_type": "code",
   "execution_count": 11,
   "id": "a6e557fa",
   "metadata": {},
   "outputs": [],
   "source": [
    "bangalore_flats.drop('Unit',inplace=True,axis=1)"
   ]
  },
  {
   "cell_type": "code",
   "execution_count": 12,
   "id": "304bb889",
   "metadata": {},
   "outputs": [
    {
     "data": {
      "text/html": [
       "<div>\n",
       "<style scoped>\n",
       "    .dataframe tbody tr th:only-of-type {\n",
       "        vertical-align: middle;\n",
       "    }\n",
       "\n",
       "    .dataframe tbody tr th {\n",
       "        vertical-align: top;\n",
       "    }\n",
       "\n",
       "    .dataframe thead th {\n",
       "        text-align: right;\n",
       "    }\n",
       "</style>\n",
       "<table border=\"1\" class=\"dataframe\">\n",
       "  <thead>\n",
       "    <tr style=\"text-align: right;\">\n",
       "      <th></th>\n",
       "      <th>Builder</th>\n",
       "      <th>BHK</th>\n",
       "      <th>Area_sqft</th>\n",
       "      <th>Price_Per_sqft</th>\n",
       "      <th>Total_Price</th>\n",
       "      <th>Location</th>\n",
       "      <th>Construction_Status</th>\n",
       "    </tr>\n",
       "  </thead>\n",
       "  <tbody>\n",
       "    <tr>\n",
       "      <th>0</th>\n",
       "      <td>Trishul Builders And Promoters</td>\n",
       "      <td>2.0</td>\n",
       "      <td>1210</td>\n",
       "      <td>3376</td>\n",
       "      <td>40.84</td>\n",
       "      <td>Sompura</td>\n",
       "      <td>Under Construction</td>\n",
       "    </tr>\n",
       "    <tr>\n",
       "      <th>1</th>\n",
       "      <td>Anuraag Constructions</td>\n",
       "      <td>3.0</td>\n",
       "      <td>1520</td>\n",
       "      <td>5120</td>\n",
       "      <td>77.83</td>\n",
       "      <td>Varthur</td>\n",
       "      <td>Under Construction</td>\n",
       "    </tr>\n",
       "    <tr>\n",
       "      <th>2</th>\n",
       "      <td>SNN Estates</td>\n",
       "      <td>4.0</td>\n",
       "      <td>2275</td>\n",
       "      <td>6731</td>\n",
       "      <td>153.00</td>\n",
       "      <td>Bettadasanapura</td>\n",
       "      <td>Under Construction</td>\n",
       "    </tr>\n",
       "    <tr>\n",
       "      <th>3</th>\n",
       "      <td>Vara Constructions</td>\n",
       "      <td>3.0</td>\n",
       "      <td>1845</td>\n",
       "      <td>5435</td>\n",
       "      <td>100.00</td>\n",
       "      <td>Uttarahalli</td>\n",
       "      <td>Ready to move</td>\n",
       "    </tr>\n",
       "    <tr>\n",
       "      <th>4</th>\n",
       "      <td>S B Urbanscapes</td>\n",
       "      <td>3.0</td>\n",
       "      <td>1770</td>\n",
       "      <td>7459</td>\n",
       "      <td>132.00</td>\n",
       "      <td>Uttarahalli</td>\n",
       "      <td>Under Construction</td>\n",
       "    </tr>\n",
       "  </tbody>\n",
       "</table>\n",
       "</div>"
      ],
      "text/plain": [
       "                          Builder  BHK  Area_sqft Price_Per_sqft  Total_Price  \\\n",
       "0  Trishul Builders And Promoters  2.0       1210           3376        40.84   \n",
       "1           Anuraag Constructions  3.0       1520           5120        77.83   \n",
       "2                     SNN Estates  4.0       2275           6731       153.00   \n",
       "3              Vara Constructions  3.0       1845           5435       100.00   \n",
       "4                 S B Urbanscapes  3.0       1770           7459       132.00   \n",
       "\n",
       "          Location Construction_Status  \n",
       "0          Sompura  Under Construction  \n",
       "1          Varthur  Under Construction  \n",
       "2  Bettadasanapura  Under Construction  \n",
       "3      Uttarahalli       Ready to move  \n",
       "4      Uttarahalli  Under Construction  "
      ]
     },
     "execution_count": 12,
     "metadata": {},
     "output_type": "execute_result"
    }
   ],
   "source": [
    "bangalore_flats.head()"
   ]
  },
  {
   "cell_type": "code",
   "execution_count": 13,
   "id": "f3263745",
   "metadata": {},
   "outputs": [],
   "source": [
    "#we change the Total_Price as Total_Price(in_lakhs)\n",
    "bangalore_flats.rename(columns={'Total_Price':'Total_Price(in_lakhs)'},inplace=True)\n"
   ]
  },
  {
   "cell_type": "code",
   "execution_count": 14,
   "id": "06469bca",
   "metadata": {},
   "outputs": [
    {
     "data": {
      "text/html": [
       "<div>\n",
       "<style scoped>\n",
       "    .dataframe tbody tr th:only-of-type {\n",
       "        vertical-align: middle;\n",
       "    }\n",
       "\n",
       "    .dataframe tbody tr th {\n",
       "        vertical-align: top;\n",
       "    }\n",
       "\n",
       "    .dataframe thead th {\n",
       "        text-align: right;\n",
       "    }\n",
       "</style>\n",
       "<table border=\"1\" class=\"dataframe\">\n",
       "  <thead>\n",
       "    <tr style=\"text-align: right;\">\n",
       "      <th></th>\n",
       "      <th>Builder</th>\n",
       "      <th>BHK</th>\n",
       "      <th>Area_sqft</th>\n",
       "      <th>Price_Per_sqft</th>\n",
       "      <th>Total_Price(in_lakhs)</th>\n",
       "      <th>Location</th>\n",
       "      <th>Construction_Status</th>\n",
       "    </tr>\n",
       "  </thead>\n",
       "  <tbody>\n",
       "    <tr>\n",
       "      <th>0</th>\n",
       "      <td>Trishul Builders And Promoters</td>\n",
       "      <td>2.0</td>\n",
       "      <td>1210</td>\n",
       "      <td>3376</td>\n",
       "      <td>40.84</td>\n",
       "      <td>Sompura</td>\n",
       "      <td>Under Construction</td>\n",
       "    </tr>\n",
       "    <tr>\n",
       "      <th>1</th>\n",
       "      <td>Anuraag Constructions</td>\n",
       "      <td>3.0</td>\n",
       "      <td>1520</td>\n",
       "      <td>5120</td>\n",
       "      <td>77.83</td>\n",
       "      <td>Varthur</td>\n",
       "      <td>Under Construction</td>\n",
       "    </tr>\n",
       "    <tr>\n",
       "      <th>2</th>\n",
       "      <td>SNN Estates</td>\n",
       "      <td>4.0</td>\n",
       "      <td>2275</td>\n",
       "      <td>6731</td>\n",
       "      <td>153.00</td>\n",
       "      <td>Bettadasanapura</td>\n",
       "      <td>Under Construction</td>\n",
       "    </tr>\n",
       "  </tbody>\n",
       "</table>\n",
       "</div>"
      ],
      "text/plain": [
       "                          Builder  BHK  Area_sqft Price_Per_sqft  \\\n",
       "0  Trishul Builders And Promoters  2.0       1210           3376   \n",
       "1           Anuraag Constructions  3.0       1520           5120   \n",
       "2                     SNN Estates  4.0       2275           6731   \n",
       "\n",
       "   Total_Price(in_lakhs)         Location Construction_Status  \n",
       "0                  40.84          Sompura  Under Construction  \n",
       "1                  77.83          Varthur  Under Construction  \n",
       "2                 153.00  Bettadasanapura  Under Construction  "
      ]
     },
     "execution_count": 14,
     "metadata": {},
     "output_type": "execute_result"
    }
   ],
   "source": [
    "bangalore_flats.head(3)"
   ]
  },
  {
   "cell_type": "code",
   "execution_count": 15,
   "id": "72368837",
   "metadata": {
    "scrolled": true
   },
   "outputs": [
    {
     "name": "stdout",
     "output_type": "stream",
     "text": [
      "<class 'pandas.core.frame.DataFrame'>\n",
      "RangeIndex: 2360 entries, 0 to 2359\n",
      "Data columns (total 7 columns):\n",
      " #   Column                 Non-Null Count  Dtype  \n",
      "---  ------                 --------------  -----  \n",
      " 0   Builder                2360 non-null   object \n",
      " 1   BHK                    2078 non-null   float64\n",
      " 2   Area_sqft              2360 non-null   int64  \n",
      " 3   Price_Per_sqft         2360 non-null   object \n",
      " 4   Total_Price(in_lakhs)  2360 non-null   float64\n",
      " 5   Location               2360 non-null   object \n",
      " 6   Construction_Status    2360 non-null   object \n",
      "dtypes: float64(2), int64(1), object(4)\n",
      "memory usage: 129.2+ KB\n"
     ]
    }
   ],
   "source": [
    "bangalore_flats.info()"
   ]
  },
  {
   "cell_type": "markdown",
   "id": "169ee599",
   "metadata": {},
   "source": [
    "## Observation:\n",
    "- We have null values in bhk column\n",
    "- We have two float data type columns\n",
    "- We have two int data type columns\n",
    "- We have four object data type columns\n",
    "- Bhk column is in float we want it to be in integer\n",
    "- Price per sqrt is also in object we want it to be in float"
   ]
  },
  {
   "cell_type": "code",
   "execution_count": 16,
   "id": "b7b2cbac",
   "metadata": {},
   "outputs": [],
   "source": [
    "# bhk column is a categorical column so we replace the missing value with the mode of the BHK column\n",
    "bangalore_flats['BHK']=bangalore_flats['BHK'].fillna(3)"
   ]
  },
  {
   "cell_type": "code",
   "execution_count": 17,
   "id": "0cff3164",
   "metadata": {
    "scrolled": false
   },
   "outputs": [],
   "source": [
    "bangalore_flats['BHK']=bangalore_flats['BHK'].astype(int)"
   ]
  },
  {
   "cell_type": "code",
   "execution_count": 18,
   "id": "6911a8d9",
   "metadata": {},
   "outputs": [],
   "source": [
    "# bhk column is a categorical column so we convert the categorial into numarical column\n",
    "bangalore_flats['Price_Per_sqft']=bangalore_flats['Price_Per_sqft'].astype(int)"
   ]
  },
  {
   "cell_type": "code",
   "execution_count": 19,
   "id": "82fd66a5",
   "metadata": {},
   "outputs": [
    {
     "name": "stdout",
     "output_type": "stream",
     "text": [
      "<class 'pandas.core.frame.DataFrame'>\n",
      "RangeIndex: 2360 entries, 0 to 2359\n",
      "Data columns (total 7 columns):\n",
      " #   Column                 Non-Null Count  Dtype  \n",
      "---  ------                 --------------  -----  \n",
      " 0   Builder                2360 non-null   object \n",
      " 1   BHK                    2360 non-null   int32  \n",
      " 2   Area_sqft              2360 non-null   int64  \n",
      " 3   Price_Per_sqft         2360 non-null   int32  \n",
      " 4   Total_Price(in_lakhs)  2360 non-null   float64\n",
      " 5   Location               2360 non-null   object \n",
      " 6   Construction_Status    2360 non-null   object \n",
      "dtypes: float64(1), int32(2), int64(1), object(3)\n",
      "memory usage: 110.8+ KB\n"
     ]
    }
   ],
   "source": [
    "bangalore_flats.info()"
   ]
  },
  {
   "cell_type": "markdown",
   "id": "32c0c867",
   "metadata": {},
   "source": [
    "## Observation:\n",
    "   - Here we have a dataframe with no null values\n",
    "   - All the columns have in porper data type\n",
    "   - We have one float data type columns\n",
    "   - We have four int data type columns\n",
    "   - We have three object data type columns"
   ]
  },
  {
   "cell_type": "code",
   "execution_count": 20,
   "id": "47f92865",
   "metadata": {
    "scrolled": false
   },
   "outputs": [
    {
     "data": {
      "text/html": [
       "<div>\n",
       "<style scoped>\n",
       "    .dataframe tbody tr th:only-of-type {\n",
       "        vertical-align: middle;\n",
       "    }\n",
       "\n",
       "    .dataframe tbody tr th {\n",
       "        vertical-align: top;\n",
       "    }\n",
       "\n",
       "    .dataframe thead th {\n",
       "        text-align: right;\n",
       "    }\n",
       "</style>\n",
       "<table border=\"1\" class=\"dataframe\">\n",
       "  <thead>\n",
       "    <tr style=\"text-align: right;\">\n",
       "      <th></th>\n",
       "      <th>count</th>\n",
       "      <th>mean</th>\n",
       "      <th>std</th>\n",
       "      <th>min</th>\n",
       "      <th>25%</th>\n",
       "      <th>50%</th>\n",
       "      <th>75%</th>\n",
       "      <th>max</th>\n",
       "    </tr>\n",
       "  </thead>\n",
       "  <tbody>\n",
       "    <tr>\n",
       "      <th>BHK</th>\n",
       "      <td>2360.0</td>\n",
       "      <td>2.908898</td>\n",
       "      <td>1.191216</td>\n",
       "      <td>1.0</td>\n",
       "      <td>2.000</td>\n",
       "      <td>3.0</td>\n",
       "      <td>3.00</td>\n",
       "      <td>11.0</td>\n",
       "    </tr>\n",
       "    <tr>\n",
       "      <th>Area_sqft</th>\n",
       "      <td>2360.0</td>\n",
       "      <td>1854.867373</td>\n",
       "      <td>1416.150429</td>\n",
       "      <td>333.0</td>\n",
       "      <td>1150.750</td>\n",
       "      <td>1377.5</td>\n",
       "      <td>1890.75</td>\n",
       "      <td>14000.0</td>\n",
       "    </tr>\n",
       "    <tr>\n",
       "      <th>Price_Per_sqft</th>\n",
       "      <td>2360.0</td>\n",
       "      <td>6405.071186</td>\n",
       "      <td>3117.882979</td>\n",
       "      <td>459.0</td>\n",
       "      <td>4631.250</td>\n",
       "      <td>5583.5</td>\n",
       "      <td>7335.75</td>\n",
       "      <td>33333.0</td>\n",
       "    </tr>\n",
       "    <tr>\n",
       "      <th>Total_Price(in_lakhs)</th>\n",
       "      <td>2360.0</td>\n",
       "      <td>129.778025</td>\n",
       "      <td>162.915039</td>\n",
       "      <td>9.0</td>\n",
       "      <td>55.745</td>\n",
       "      <td>80.0</td>\n",
       "      <td>132.00</td>\n",
       "      <td>2000.0</td>\n",
       "    </tr>\n",
       "  </tbody>\n",
       "</table>\n",
       "</div>"
      ],
      "text/plain": [
       "                        count         mean          std    min       25%  \\\n",
       "BHK                    2360.0     2.908898     1.191216    1.0     2.000   \n",
       "Area_sqft              2360.0  1854.867373  1416.150429  333.0  1150.750   \n",
       "Price_Per_sqft         2360.0  6405.071186  3117.882979  459.0  4631.250   \n",
       "Total_Price(in_lakhs)  2360.0   129.778025   162.915039    9.0    55.745   \n",
       "\n",
       "                          50%      75%      max  \n",
       "BHK                       3.0     3.00     11.0  \n",
       "Area_sqft              1377.5  1890.75  14000.0  \n",
       "Price_Per_sqft         5583.5  7335.75  33333.0  \n",
       "Total_Price(in_lakhs)    80.0   132.00   2000.0  "
      ]
     },
     "execution_count": 20,
     "metadata": {},
     "output_type": "execute_result"
    }
   ],
   "source": [
    "bangalore_flats.describe().T"
   ]
  },
  {
   "cell_type": "markdown",
   "id": "2e018919",
   "metadata": {},
   "source": [
    "Observations:\n",
    "From the above table we can say\n",
    "- BHK: median = 3, min = 1,max = 11,25% = 2,75% = 3\n",
    "- Area_sqft:mean = 1854.867373, median = 1377.50000, std = 1416.150429,min = 333.00000,max = 14000.00000,25% = 1150.750000,75% = 1890.750000\n",
    "-Price_Per_sqft:mean = 6405.071186, median = 5583.500000,std = 3117.882979,min = 459.000000,max = 33333.000000,25% = 4631.250000,75% = 7335.750000\n",
    "-Total_Price(in_lakhs):,mean = 129.778025,median = 80.000000,std = 162.915039,min = 9.000000,max = 2000.000000, 25% = 55.745000,75% = 132.000000"
   ]
  },
  {
   "cell_type": "code",
   "execution_count": 21,
   "id": "f9bd0dd9",
   "metadata": {},
   "outputs": [],
   "source": [
    "bangalore_properties=bangalore_flats[(bangalore_flats['BHK']==2) | (bangalore_flats['BHK']==3) \n",
    "                                     | (bangalore_flats['BHK']==4) | (bangalore_flats['BHK']==5)]"
   ]
  },
  {
   "cell_type": "code",
   "execution_count": 22,
   "id": "b1c05982",
   "metadata": {
    "scrolled": false
   },
   "outputs": [
    {
     "data": {
      "text/html": [
       "<div>\n",
       "<style scoped>\n",
       "    .dataframe tbody tr th:only-of-type {\n",
       "        vertical-align: middle;\n",
       "    }\n",
       "\n",
       "    .dataframe tbody tr th {\n",
       "        vertical-align: top;\n",
       "    }\n",
       "\n",
       "    .dataframe thead th {\n",
       "        text-align: right;\n",
       "    }\n",
       "</style>\n",
       "<table border=\"1\" class=\"dataframe\">\n",
       "  <thead>\n",
       "    <tr style=\"text-align: right;\">\n",
       "      <th></th>\n",
       "      <th>Builder</th>\n",
       "      <th>BHK</th>\n",
       "      <th>Area_sqft</th>\n",
       "      <th>Price_Per_sqft</th>\n",
       "      <th>Total_Price(in_lakhs)</th>\n",
       "      <th>Location</th>\n",
       "      <th>Construction_Status</th>\n",
       "    </tr>\n",
       "  </thead>\n",
       "  <tbody>\n",
       "    <tr>\n",
       "      <th>0</th>\n",
       "      <td>Trishul Builders And Promoters</td>\n",
       "      <td>2</td>\n",
       "      <td>1210</td>\n",
       "      <td>3376</td>\n",
       "      <td>40.84</td>\n",
       "      <td>Sompura</td>\n",
       "      <td>Under Construction</td>\n",
       "    </tr>\n",
       "    <tr>\n",
       "      <th>1</th>\n",
       "      <td>Anuraag Constructions</td>\n",
       "      <td>3</td>\n",
       "      <td>1520</td>\n",
       "      <td>5120</td>\n",
       "      <td>77.83</td>\n",
       "      <td>Varthur</td>\n",
       "      <td>Under Construction</td>\n",
       "    </tr>\n",
       "    <tr>\n",
       "      <th>2</th>\n",
       "      <td>SNN Estates</td>\n",
       "      <td>4</td>\n",
       "      <td>2275</td>\n",
       "      <td>6731</td>\n",
       "      <td>153.00</td>\n",
       "      <td>Bettadasanapura</td>\n",
       "      <td>Under Construction</td>\n",
       "    </tr>\n",
       "    <tr>\n",
       "      <th>3</th>\n",
       "      <td>Vara Constructions</td>\n",
       "      <td>3</td>\n",
       "      <td>1845</td>\n",
       "      <td>5435</td>\n",
       "      <td>100.00</td>\n",
       "      <td>Uttarahalli</td>\n",
       "      <td>Ready to move</td>\n",
       "    </tr>\n",
       "    <tr>\n",
       "      <th>4</th>\n",
       "      <td>S B Urbanscapes</td>\n",
       "      <td>3</td>\n",
       "      <td>1770</td>\n",
       "      <td>7459</td>\n",
       "      <td>132.00</td>\n",
       "      <td>Uttarahalli</td>\n",
       "      <td>Under Construction</td>\n",
       "    </tr>\n",
       "    <tr>\n",
       "      <th>...</th>\n",
       "      <td>...</td>\n",
       "      <td>...</td>\n",
       "      <td>...</td>\n",
       "      <td>...</td>\n",
       "      <td>...</td>\n",
       "      <td>...</td>\n",
       "      <td>...</td>\n",
       "    </tr>\n",
       "    <tr>\n",
       "      <th>2354</th>\n",
       "      <td>Elite Lifespaces</td>\n",
       "      <td>2</td>\n",
       "      <td>1365</td>\n",
       "      <td>9157</td>\n",
       "      <td>125.00</td>\n",
       "      <td>Chamrajpet</td>\n",
       "      <td>Ready to move</td>\n",
       "    </tr>\n",
       "    <tr>\n",
       "      <th>2355</th>\n",
       "      <td>Elite Lifespaces</td>\n",
       "      <td>3</td>\n",
       "      <td>2000</td>\n",
       "      <td>9750</td>\n",
       "      <td>195.00</td>\n",
       "      <td>Chamrajpet</td>\n",
       "      <td>Ready to move</td>\n",
       "    </tr>\n",
       "    <tr>\n",
       "      <th>2357</th>\n",
       "      <td>Elite Lifespaces</td>\n",
       "      <td>2</td>\n",
       "      <td>1350</td>\n",
       "      <td>8518</td>\n",
       "      <td>115.00</td>\n",
       "      <td>Chamrajpet</td>\n",
       "      <td>Ready to move</td>\n",
       "    </tr>\n",
       "    <tr>\n",
       "      <th>2358</th>\n",
       "      <td>Elite Lifespaces</td>\n",
       "      <td>2</td>\n",
       "      <td>1455</td>\n",
       "      <td>9278</td>\n",
       "      <td>135.00</td>\n",
       "      <td>Chamrajpet</td>\n",
       "      <td>Ready to move</td>\n",
       "    </tr>\n",
       "    <tr>\n",
       "      <th>2359</th>\n",
       "      <td>Elite Lifespaces</td>\n",
       "      <td>3</td>\n",
       "      <td>2465</td>\n",
       "      <td>10344</td>\n",
       "      <td>255.00</td>\n",
       "      <td>Chamrajpet</td>\n",
       "      <td>Ready to move</td>\n",
       "    </tr>\n",
       "  </tbody>\n",
       "</table>\n",
       "<p>2238 rows × 7 columns</p>\n",
       "</div>"
      ],
      "text/plain": [
       "                             Builder  BHK  Area_sqft  Price_Per_sqft  \\\n",
       "0     Trishul Builders And Promoters    2       1210            3376   \n",
       "1              Anuraag Constructions    3       1520            5120   \n",
       "2                        SNN Estates    4       2275            6731   \n",
       "3                 Vara Constructions    3       1845            5435   \n",
       "4                    S B Urbanscapes    3       1770            7459   \n",
       "...                              ...  ...        ...             ...   \n",
       "2354                Elite Lifespaces    2       1365            9157   \n",
       "2355                Elite Lifespaces    3       2000            9750   \n",
       "2357                Elite Lifespaces    2       1350            8518   \n",
       "2358                Elite Lifespaces    2       1455            9278   \n",
       "2359                Elite Lifespaces    3       2465           10344   \n",
       "\n",
       "      Total_Price(in_lakhs)         Location Construction_Status  \n",
       "0                     40.84          Sompura  Under Construction  \n",
       "1                     77.83          Varthur  Under Construction  \n",
       "2                    153.00  Bettadasanapura  Under Construction  \n",
       "3                    100.00      Uttarahalli       Ready to move  \n",
       "4                    132.00      Uttarahalli  Under Construction  \n",
       "...                     ...              ...                 ...  \n",
       "2354                 125.00       Chamrajpet       Ready to move  \n",
       "2355                 195.00       Chamrajpet       Ready to move  \n",
       "2357                 115.00       Chamrajpet       Ready to move  \n",
       "2358                 135.00       Chamrajpet       Ready to move  \n",
       "2359                 255.00       Chamrajpet       Ready to move  \n",
       "\n",
       "[2238 rows x 7 columns]"
      ]
     },
     "execution_count": 22,
     "metadata": {},
     "output_type": "execute_result"
    }
   ],
   "source": [
    "bangalore_properties"
   ]
  },
  {
   "cell_type": "markdown",
   "id": "03475fd1",
   "metadata": {},
   "source": [
    "# Data Visualization  &  Data Analysis "
   ]
  },
  {
   "cell_type": "markdown",
   "id": "d17d5651",
   "metadata": {},
   "source": [
    "## Uni - Variate"
   ]
  },
  {
   "cell_type": "markdown",
   "id": "89cdd412",
   "metadata": {},
   "source": [
    "#### Single Cat"
   ]
  },
  {
   "cell_type": "code",
   "execution_count": 23,
   "id": "11a81468",
   "metadata": {},
   "outputs": [],
   "source": [
    "cat_col=bangalore_properties.select_dtypes(exclude='number').columns.tolist()\n",
    "cat_col.append('BHK')"
   ]
  },
  {
   "cell_type": "code",
   "execution_count": 24,
   "id": "f8864590",
   "metadata": {
    "scrolled": false
   },
   "outputs": [
    {
     "data": {
      "image/png": "[encoded data removed]",
      "text/plain": [
       "<Figure size 432x432 with 1 Axes>"
      ]
     },
     "metadata": {},
     "output_type": "display_data"
    }
   ],
   "source": [
    "plt.figure(figsize=(6,6))\n",
    "v=[2,3,4,5]\n",
    "plt.pie(bangalore_properties['BHK'].value_counts(),autopct='%.2f',labels=v)\n",
    "plt.title('Pie plot')\n",
    "plt.show()"
   ]
  },
  {
   "cell_type": "markdown",
   "id": "7a8c1330",
   "metadata": {},
   "source": [
    "## Observation :\n",
    "- 51.39%  of the properties are 2 bhk properties\n",
    "- 37.35%  of the properties are 3 bhk properties\n",
    "- 6.52%  of the properties are 4 bhk properties\n",
    "- 4.74%  of the properties are 5 bhk properties\n"
   ]
  },
  {
   "cell_type": "code",
   "execution_count": 25,
   "id": "7691cc7b",
   "metadata": {
    "scrolled": false
   },
   "outputs": [
    {
     "name": "stderr",
     "output_type": "stream",
     "text": [
      "C:\\Users\\vijay\\anaconda3\\anconda\\lib\\site-packages\\seaborn\\_decorators.py:36: FutureWarning: Pass the following variable as a keyword arg: x. From version 0.12, the only valid positional argument will be `data`, and passing other arguments without an explicit keyword will result in an error or misinterpretation.\n",
      "  warnings.warn(\n"
     ]
    },
    {
     "data": {
      "image/png": "[encoded data removed]",
      "text/plain": [
       "<Figure size 432x288 with 1 Axes>"
      ]
     },
     "metadata": {
      "needs_background": "light"
     },
     "output_type": "display_data"
    }
   ],
   "source": [
    "plt.xticks(rotation=90)\n",
    "sb.countplot('Construction_Status',data=bangalore_properties)\n",
    "plt.title('countplot')\n",
    "plt.show()"
   ]
  },
  {
   "cell_type": "markdown",
   "id": "86c97f8f",
   "metadata": {},
   "source": [
    "## Observation :\n",
    "- Maximaum number of flats are ready to move \n",
    "- New and resale properties are few"
   ]
  },
  {
   "cell_type": "code",
   "execution_count": 26,
   "id": "b7c96f09",
   "metadata": {
    "scrolled": true
   },
   "outputs": [
    {
     "data": {
      "image/png": "[encoded data removed]",
      "text/plain": [
       "<Figure size 432x288 with 1 Axes>"
      ]
     },
     "metadata": {
      "needs_background": "light"
     },
     "output_type": "display_data"
    }
   ],
   "source": [
    "plt.xlabel('Count')\n",
    "bangalore_properties['Location'].value_counts()[:15].plot(kind='barh')\n",
    "plt.title('bar plot')\n",
    "\n",
    "plt.show()"
   ]
  },
  {
   "cell_type": "markdown",
   "id": "e0be4ec0",
   "metadata": {},
   "source": [
    "## Observation:\n",
    "   - The top 15 locations in Bangalore where the maximum number of properties are  available to buy\n",
    "   - Maximum number of flats in Uttarahalli , Bangalore ."
   ]
  },
  {
   "cell_type": "code",
   "execution_count": 27,
   "id": "28163d3a",
   "metadata": {
    "scrolled": false
   },
   "outputs": [
    {
     "data": {
      "image/png": "[encoded data removed]",
      "text/plain": [
       "<Figure size 432x288 with 1 Axes>"
      ]
     },
     "metadata": {
      "needs_background": "light"
     },
     "output_type": "display_data"
    }
   ],
   "source": [
    "plt.xlabel('Count')\n",
    "bangalore_properties['Builder'].value_counts()[1:15].plot(kind='barh')\n",
    "plt.xlim([0,300])\n",
    "plt.title('bar plot')\n",
    "plt.show()"
   ]
  },
  {
   "cell_type": "markdown",
   "id": "504d678b",
   "metadata": {},
   "source": [
    "## Obsrevation :\n",
    "   - The top 15 construction companies\n",
    "   - The Lavish Spaces pvt Ltd is the construction company  who have maximum number of properties"
   ]
  },
  {
   "cell_type": "code",
   "execution_count": 28,
   "id": "3b13bb53",
   "metadata": {},
   "outputs": [
    {
     "data": {
      "text/plain": [
       "Index(['BHK', 'Area_sqft', 'Price_Per_sqft', 'Total_Price(in_lakhs)'], dtype='object')"
      ]
     },
     "execution_count": 28,
     "metadata": {},
     "output_type": "execute_result"
    }
   ],
   "source": [
    "z=bangalore_properties.select_dtypes(include='number').columns\n",
    "z"
   ]
  },
  {
   "cell_type": "code",
   "execution_count": 29,
   "id": "7a6ee81c",
   "metadata": {
    "scrolled": true
   },
   "outputs": [
    {
     "data": {
      "text/plain": [
       "['Area_sqft', 'Price_Per_sqft', 'Total_Price(in_lakhs)']"
      ]
     },
     "execution_count": 29,
     "metadata": {},
     "output_type": "execute_result"
    }
   ],
   "source": [
    "num_col=z.drop(['BHK']).tolist()\n",
    "num_col"
   ]
  },
  {
   "cell_type": "code",
   "execution_count": 30,
   "id": "ca14c642",
   "metadata": {
    "scrolled": false
   },
   "outputs": [
    {
     "data": {
      "image/png": "[encoded data removed]",
      "text/plain": [
       "<Figure size 1152x432 with 3 Axes>"
      ]
     },
     "metadata": {
      "needs_background": "light"
     },
     "output_type": "display_data"
    }
   ],
   "source": [
    "fig,axs=plt.subplots(figsize=(16,6),ncols=3)\n",
    "sb.histplot(x='Area_sqft',data=bangalore_properties,kde=True,ax=axs[0])\n",
    "sb.histplot(x='Total_Price(in_lakhs)',data=bangalore_properties,kde=True,ax=axs[1])\n",
    "sb.histplot(x='Price_Per_sqft',data=bangalore_properties,kde=True,ax=axs[2])\n",
    "plt.show()"
   ]
  },
  {
   "cell_type": "markdown",
   "id": "904b4fd6",
   "metadata": {},
   "source": [
    "## Observation :\n",
    "\n",
    "   - Maximum number of properties have of area sqft within the range of 950 sqft to 1500 sqft\n",
    "\n",
    "   - Maximum number of properties have of price per sqft within the range of price 4500 per sqft to price 7600 per sqft\n",
    "\n",
    "   - Maximum number of properties have of price (in lakhs) within the range of price (in lakhs): 30 to price (in lakhs): 90\n",
    "    "
   ]
  },
  {
   "cell_type": "code",
   "execution_count": 31,
   "id": "206ad1bf",
   "metadata": {},
   "outputs": [
    {
     "data": {
      "text/html": [
       "<div>\n",
       "<style scoped>\n",
       "    .dataframe tbody tr th:only-of-type {\n",
       "        vertical-align: middle;\n",
       "    }\n",
       "\n",
       "    .dataframe tbody tr th {\n",
       "        vertical-align: top;\n",
       "    }\n",
       "\n",
       "    .dataframe thead th {\n",
       "        text-align: right;\n",
       "    }\n",
       "</style>\n",
       "<table border=\"1\" class=\"dataframe\">\n",
       "  <thead>\n",
       "    <tr style=\"text-align: right;\">\n",
       "      <th></th>\n",
       "      <th></th>\n",
       "      <th>Area_sqft</th>\n",
       "      <th>Price_Per_sqft</th>\n",
       "      <th>Total_Price(in_lakhs)</th>\n",
       "    </tr>\n",
       "    <tr>\n",
       "      <th>BHK</th>\n",
       "      <th>Construction_Status</th>\n",
       "      <th></th>\n",
       "      <th></th>\n",
       "      <th></th>\n",
       "    </tr>\n",
       "  </thead>\n",
       "  <tbody>\n",
       "    <tr>\n",
       "      <th rowspan=\"2\" valign=\"top\">2</th>\n",
       "      <th>Ready to move</th>\n",
       "      <td>1147.128049</td>\n",
       "      <td>5560.386179</td>\n",
       "      <td>64.426748</td>\n",
       "    </tr>\n",
       "    <tr>\n",
       "      <th>Under Construction</th>\n",
       "      <td>1142.375000</td>\n",
       "      <td>5810.162791</td>\n",
       "      <td>66.455727</td>\n",
       "    </tr>\n",
       "    <tr>\n",
       "      <th rowspan=\"4\" valign=\"top\">3</th>\n",
       "      <th>New</th>\n",
       "      <td>1976.525253</td>\n",
       "      <td>4643.030303</td>\n",
       "      <td>84.648788</td>\n",
       "    </tr>\n",
       "    <tr>\n",
       "      <th>Ready to move</th>\n",
       "      <td>1717.077899</td>\n",
       "      <td>6580.469203</td>\n",
       "      <td>119.070091</td>\n",
       "    </tr>\n",
       "    <tr>\n",
       "      <th>Resale</th>\n",
       "      <td>1851.737705</td>\n",
       "      <td>6885.387978</td>\n",
       "      <td>141.555738</td>\n",
       "    </tr>\n",
       "    <tr>\n",
       "      <th>Under Construction</th>\n",
       "      <td>1641.170886</td>\n",
       "      <td>6667.686709</td>\n",
       "      <td>113.379715</td>\n",
       "    </tr>\n",
       "    <tr>\n",
       "      <th rowspan=\"2\" valign=\"top\">4</th>\n",
       "      <th>Ready to move</th>\n",
       "      <td>3120.355140</td>\n",
       "      <td>8306.869159</td>\n",
       "      <td>280.509159</td>\n",
       "    </tr>\n",
       "    <tr>\n",
       "      <th>Under Construction</th>\n",
       "      <td>2753.205128</td>\n",
       "      <td>8405.794872</td>\n",
       "      <td>237.446923</td>\n",
       "    </tr>\n",
       "    <tr>\n",
       "      <th rowspan=\"2\" valign=\"top\">5</th>\n",
       "      <th>Ready to move</th>\n",
       "      <td>5602.153061</td>\n",
       "      <td>8894.489796</td>\n",
       "      <td>505.673469</td>\n",
       "    </tr>\n",
       "    <tr>\n",
       "      <th>Under Construction</th>\n",
       "      <td>3537.500000</td>\n",
       "      <td>6348.625000</td>\n",
       "      <td>301.875000</td>\n",
       "    </tr>\n",
       "  </tbody>\n",
       "</table>\n",
       "</div>"
      ],
      "text/plain": [
       "                           Area_sqft  Price_Per_sqft  Total_Price(in_lakhs)\n",
       "BHK Construction_Status                                                    \n",
       "2   Ready to move        1147.128049     5560.386179              64.426748\n",
       "    Under Construction   1142.375000     5810.162791              66.455727\n",
       "3   New                  1976.525253     4643.030303              84.648788\n",
       "    Ready to move        1717.077899     6580.469203             119.070091\n",
       "    Resale               1851.737705     6885.387978             141.555738\n",
       "    Under Construction   1641.170886     6667.686709             113.379715\n",
       "4   Ready to move        3120.355140     8306.869159             280.509159\n",
       "    Under Construction   2753.205128     8405.794872             237.446923\n",
       "5   Ready to move        5602.153061     8894.489796             505.673469\n",
       "    Under Construction   3537.500000     6348.625000             301.875000"
      ]
     },
     "execution_count": 31,
     "metadata": {},
     "output_type": "execute_result"
    }
   ],
   "source": [
    "bangalore_properties.pivot_table(bangalore_properties,index=['BHK','Construction_Status'])"
   ]
  },
  {
   "cell_type": "markdown",
   "id": "d32a9f88",
   "metadata": {},
   "source": [
    "## Observation: \n",
    "   - The average area sqft ,average price per sqft and average total price for the desired  properties "
   ]
  },
  {
   "cell_type": "markdown",
   "id": "1062597d",
   "metadata": {},
   "source": [
    "## Bi - Variate"
   ]
  },
  {
   "cell_type": "code",
   "execution_count": 32,
   "id": "9baabf85",
   "metadata": {
    "scrolled": true
   },
   "outputs": [
    {
     "data": {
      "image/png": "[encoded data removed]",
      "text/plain": [
       "<Figure size 432x288 with 1 Axes>"
      ]
     },
     "metadata": {
      "needs_background": "light"
     },
     "output_type": "display_data"
    }
   ],
   "source": [
    "plt.ylabel('Total_Price(in_lakhs)')\n",
    "bangalore_properties.groupby(by='BHK')['Total_Price(in_lakhs)'].mean().plot(kind='bar')\n",
    "plt.ylim([0,500])\n",
    "plt.title('bar plot')\n",
    "plt.show()"
   ]
  },
  {
   "cell_type": "markdown",
   "id": "6456862d",
   "metadata": {},
   "source": [
    "## Observation :\n",
    "- The average price for the number of bhk \n",
    "- As the number of BHK increases the average price also increases except in 5 BHK properties "
   ]
  },
  {
   "cell_type": "code",
   "execution_count": 33,
   "id": "12e73e4c",
   "metadata": {
    "scrolled": false
   },
   "outputs": [
    {
     "data": {
      "image/png": "[encoded data removed]",
      "text/plain": [
       "<Figure size 360x360 with 1 Axes>"
      ]
     },
     "metadata": {
      "needs_background": "light"
     },
     "output_type": "display_data"
    },
    {
     "data": {
      "image/png": "[encoded data removed]",
      "text/plain": [
       "<Figure size 360x360 with 1 Axes>"
      ]
     },
     "metadata": {
      "needs_background": "light"
     },
     "output_type": "display_data"
    },
    {
     "data": {
      "image/png": "[encoded data removed]",
      "text/plain": [
       "<Figure size 360x360 with 1 Axes>"
      ]
     },
     "metadata": {
      "needs_background": "light"
     },
     "output_type": "display_data"
    }
   ],
   "source": [
    "for col1 in range(len(num_col)):\n",
    "    for col2 in range(col1+1,len(num_col)):\n",
    "        sb.relplot(x=bangalore_properties[num_col[col1]],y=bangalore_properties[num_col[col2]],dashes=True)\n",
    "        plt.title('Scatter plot')\n",
    "        plt.show()"
   ]
  },
  {
   "cell_type": "markdown",
   "id": "da1b9864",
   "metadata": {},
   "source": [
    "## Observation :\n",
    "   - Area in sqft of 500 to 3500 have the price per sqft of 1000 to 15000\n",
    "   - As the area in sqft increases the total price increases\n",
    "   - As the price per sqft increases the total price increases"
   ]
  },
  {
   "cell_type": "code",
   "execution_count": 34,
   "id": "6768071c",
   "metadata": {
    "scrolled": false
   },
   "outputs": [
    {
     "data": {
      "image/png": "[encoded data removed]",
      "text/plain": [
       "<Figure size 432x288 with 1 Axes>"
      ]
     },
     "metadata": {
      "needs_background": "light"
     },
     "output_type": "display_data"
    },
    {
     "data": {
      "image/png": "[encoded data removed]",
      "text/plain": [
       "<Figure size 432x288 with 1 Axes>"
      ]
     },
     "metadata": {
      "needs_background": "light"
     },
     "output_type": "display_data"
    },
    {
     "data": {
      "image/png": "[encoded data removed]",
      "text/plain": [
       "<Figure size 432x288 with 1 Axes>"
      ]
     },
     "metadata": {
      "needs_background": "light"
     },
     "output_type": "display_data"
    }
   ],
   "source": [
    "for j in range(len(num_col)):\n",
    "    sb.barplot(x='BHK',y=bangalore_properties[num_col[j]],data=bangalore_properties)  \n",
    "    plt.title('bar plot')\n",
    "    plt.show()\n",
    "    "
   ]
  },
  {
   "cell_type": "markdown",
   "id": "a80dadc8",
   "metadata": {},
   "source": [
    "## Observation :\n",
    "   - As the number of BHK incerases the price per sqft  increases\n",
    "        "
   ]
  },
  {
   "cell_type": "code",
   "execution_count": 35,
   "id": "08306990",
   "metadata": {},
   "outputs": [
    {
     "data": {
      "image/png": "[encoded data removed]",
      "text/plain": [
       "<Figure size 432x288 with 1 Axes>"
      ]
     },
     "metadata": {
      "needs_background": "light"
     },
     "output_type": "display_data"
    }
   ],
   "source": [
    "#  cat with bhk\n",
    "pd.crosstab(bangalore_properties['Construction_Status'],bangalore_properties['BHK']).plot(kind='bar')\n",
    "plt.title('bar plot')\n",
    "plt.ylabel('Count')\n",
    "plt.ylim([0,700])\n",
    "plt.show()\n"
   ]
  },
  {
   "cell_type": "markdown",
   "id": "3b42c79f",
   "metadata": {},
   "source": [
    "## Observation:\n",
    "   - new  and resale properties have only 3 BHK properties available \n",
    "   - In  ready to move properties 3 BHK properties are high and 5 BHK properties are low\n",
    "   - In under construction properties 2 BHK properties are high and 5 BHK properties are low\n",
    "   - 3 BHK property is available  in every condition"
   ]
  },
  {
   "cell_type": "markdown",
   "id": "35d31a02",
   "metadata": {},
   "source": [
    "## Multi - Variate"
   ]
  },
  {
   "cell_type": "code",
   "execution_count": 36,
   "id": "042d031a",
   "metadata": {},
   "outputs": [
    {
     "data": {
      "image/png": "[encoded data removed]",
      "text/plain": [
       "<Figure size 432x288 with 2 Axes>"
      ]
     },
     "metadata": {
      "needs_background": "light"
     },
     "output_type": "display_data"
    }
   ],
   "source": [
    "sb.heatmap(bangalore_properties.corr(),vmin=-1,vmax=1,annot=True,cmap='mako')\n",
    "plt.title('heapmap plot')\n",
    "plt.show()"
   ]
  },
  {
   "cell_type": "markdown",
   "id": "a4be45f0",
   "metadata": {},
   "source": [
    "## Observation :\n",
    "   - All the numarical columns have positive correlation\n",
    "   - The highest positive correlation in between  price per sqft and Total price , area sqft and Total price\n",
    "   - The lowest positive correlation in between  price per sqft and BHK , area sqft and price per sqft\n",
    "\n",
    "        "
   ]
  },
  {
   "cell_type": "code",
   "execution_count": 37,
   "id": "f6db666e",
   "metadata": {
    "scrolled": false
   },
   "outputs": [
    {
     "name": "stderr",
     "output_type": "stream",
     "text": [
      "C:\\Users\\vijay\\anaconda3\\anconda\\lib\\site-packages\\seaborn\\_decorators.py:36: FutureWarning: Pass the following variables as keyword args: x, y. From version 0.12, the only valid positional argument will be `data`, and passing other arguments without an explicit keyword will result in an error or misinterpretation.\n",
      "  warnings.warn(\n"
     ]
    },
    {
     "data": {
      "image/png": "[encoded data removed]",
      "text/plain": [
       "<Figure size 432x288 with 1 Axes>"
      ]
     },
     "metadata": {
      "needs_background": "light"
     },
     "output_type": "display_data"
    }
   ],
   "source": [
    "sb.scatterplot('Area_sqft','Total_Price(in_lakhs)',data=bangalore_properties,hue='Construction_Status')\n",
    "plt.title('Scatter plot')\n",
    "plt.show()"
   ]
  },
  {
   "cell_type": "markdown",
   "id": "37b32263",
   "metadata": {},
   "source": [
    "## Observation: \n",
    "   - Ready to move properties are available in wide range of area and price"
   ]
  },
  {
   "cell_type": "code",
   "execution_count": 38,
   "id": "177e41e3",
   "metadata": {
    "scrolled": true
   },
   "outputs": [
    {
     "data": {
      "text/plain": [
       "BHK  Construction_Status\n",
       "2    Ready to move          18.00\n",
       "     Under Construction     27.99\n",
       "3    New                    17.98\n",
       "     Ready to move          33.00\n",
       "     Resale                  9.00\n",
       "     Under Construction     36.00\n",
       "4    Ready to move          57.00\n",
       "     Under Construction     57.60\n",
       "5    Ready to move          69.00\n",
       "     Under Construction     65.00\n",
       "Name: Total_Price(in_lakhs), dtype: float64"
      ]
     },
     "execution_count": 38,
     "metadata": {},
     "output_type": "execute_result"
    }
   ],
   "source": [
    "bangalore_properties.groupby(by=['BHK','Construction_Status'])['Total_Price(in_lakhs)'].min()"
   ]
  },
  {
   "cell_type": "code",
   "execution_count": 39,
   "id": "79e7b1ed",
   "metadata": {
    "scrolled": false
   },
   "outputs": [
    {
     "data": {
      "image/png": "[encoded data removed]",
      "text/plain": [
       "<Figure size 432x288 with 1 Axes>"
      ]
     },
     "metadata": {
      "needs_background": "light"
     },
     "output_type": "display_data"
    }
   ],
   "source": [
    "plt.xticks(rotation=90)\n",
    "sb.barplot(x='Construction_Status',y='Total_Price(in_lakhs)',hue='BHK',data=bangalore_properties)\n",
    "plt.title('bar plot')\n",
    "plt.show()"
   ]
  },
  {
   "cell_type": "markdown",
   "id": "d1b13e8f",
   "metadata": {},
   "source": [
    "## Obsrevation : \n",
    "   - The average total price of new and resale are available  only in 3 BHK \n",
    "   - Average total price of 2BHK is minimum\n",
    "   - Average total price of 5BHK is maximum"
   ]
  },
  {
   "cell_type": "markdown",
   "id": "4b2f1f60",
   "metadata": {},
   "source": [
    "## Case 1 :"
   ]
  },
  {
   "cell_type": "code",
   "execution_count": 40,
   "id": "b74fbdf4",
   "metadata": {},
   "outputs": [
    {
     "data": {
      "text/html": [
       "<div>\n",
       "<style scoped>\n",
       "    .dataframe tbody tr th:only-of-type {\n",
       "        vertical-align: middle;\n",
       "    }\n",
       "\n",
       "    .dataframe tbody tr th {\n",
       "        vertical-align: top;\n",
       "    }\n",
       "\n",
       "    .dataframe thead th {\n",
       "        text-align: right;\n",
       "    }\n",
       "</style>\n",
       "<table border=\"1\" class=\"dataframe\">\n",
       "  <thead>\n",
       "    <tr style=\"text-align: right;\">\n",
       "      <th></th>\n",
       "      <th>Builder</th>\n",
       "      <th>BHK</th>\n",
       "      <th>Area_sqft</th>\n",
       "      <th>Price_Per_sqft</th>\n",
       "      <th>Total_Price(in_lakhs)</th>\n",
       "      <th>Location</th>\n",
       "      <th>Construction_Status</th>\n",
       "    </tr>\n",
       "  </thead>\n",
       "  <tbody>\n",
       "    <tr>\n",
       "      <th>3</th>\n",
       "      <td>Vara Constructions</td>\n",
       "      <td>3</td>\n",
       "      <td>1845</td>\n",
       "      <td>5435</td>\n",
       "      <td>100.00</td>\n",
       "      <td>Uttarahalli</td>\n",
       "      <td>Ready to move</td>\n",
       "    </tr>\n",
       "    <tr>\n",
       "      <th>257</th>\n",
       "      <td>S B Urbanscapes</td>\n",
       "      <td>3</td>\n",
       "      <td>1885</td>\n",
       "      <td>7438</td>\n",
       "      <td>140.00</td>\n",
       "      <td>Uttarahalli</td>\n",
       "      <td>Under Construction</td>\n",
       "    </tr>\n",
       "    <tr>\n",
       "      <th>260</th>\n",
       "      <td>S B Urbanscapes</td>\n",
       "      <td>3</td>\n",
       "      <td>1890</td>\n",
       "      <td>7438</td>\n",
       "      <td>140.00</td>\n",
       "      <td>Uttarahalli</td>\n",
       "      <td>Under Construction</td>\n",
       "    </tr>\n",
       "    <tr>\n",
       "      <th>262</th>\n",
       "      <td>S B Urbanscapes</td>\n",
       "      <td>3</td>\n",
       "      <td>1820</td>\n",
       "      <td>7450</td>\n",
       "      <td>135.00</td>\n",
       "      <td>Uttarahalli</td>\n",
       "      <td>Under Construction</td>\n",
       "    </tr>\n",
       "    <tr>\n",
       "      <th>267</th>\n",
       "      <td>S B Urbanscapes</td>\n",
       "      <td>3</td>\n",
       "      <td>1830</td>\n",
       "      <td>7448</td>\n",
       "      <td>136.00</td>\n",
       "      <td>Uttarahalli</td>\n",
       "      <td>Under Construction</td>\n",
       "    </tr>\n",
       "    <tr>\n",
       "      <th>270</th>\n",
       "      <td>S B Urbanscapes</td>\n",
       "      <td>3</td>\n",
       "      <td>1815</td>\n",
       "      <td>7451</td>\n",
       "      <td>135.00</td>\n",
       "      <td>Uttarahalli</td>\n",
       "      <td>Under Construction</td>\n",
       "    </tr>\n",
       "    <tr>\n",
       "      <th>1446</th>\n",
       "      <td>Lavish Spaces Pvt Ltd</td>\n",
       "      <td>3</td>\n",
       "      <td>1805</td>\n",
       "      <td>5500</td>\n",
       "      <td>99.27</td>\n",
       "      <td>Uttarahalli</td>\n",
       "      <td>Ready to move</td>\n",
       "    </tr>\n",
       "    <tr>\n",
       "      <th>1553</th>\n",
       "      <td>Lavish Spaces Pvt Ltd</td>\n",
       "      <td>3</td>\n",
       "      <td>1805</td>\n",
       "      <td>5500</td>\n",
       "      <td>99.27</td>\n",
       "      <td>Uttarahalli</td>\n",
       "      <td>Ready to move</td>\n",
       "    </tr>\n",
       "    <tr>\n",
       "      <th>1693</th>\n",
       "      <td>Lavish Spaces Pvt Ltd</td>\n",
       "      <td>3</td>\n",
       "      <td>1800</td>\n",
       "      <td>5950</td>\n",
       "      <td>107.00</td>\n",
       "      <td>Uttarahalli</td>\n",
       "      <td>Ready to move</td>\n",
       "    </tr>\n",
       "    <tr>\n",
       "      <th>1694</th>\n",
       "      <td>Lavish Spaces Pvt Ltd</td>\n",
       "      <td>3</td>\n",
       "      <td>1800</td>\n",
       "      <td>5950</td>\n",
       "      <td>107.00</td>\n",
       "      <td>Uttarahalli</td>\n",
       "      <td>Ready to move</td>\n",
       "    </tr>\n",
       "  </tbody>\n",
       "</table>\n",
       "</div>"
      ],
      "text/plain": [
       "                    Builder  BHK  Area_sqft  Price_Per_sqft  \\\n",
       "3        Vara Constructions    3       1845            5435   \n",
       "257         S B Urbanscapes    3       1885            7438   \n",
       "260         S B Urbanscapes    3       1890            7438   \n",
       "262         S B Urbanscapes    3       1820            7450   \n",
       "267         S B Urbanscapes    3       1830            7448   \n",
       "270         S B Urbanscapes    3       1815            7451   \n",
       "1446  Lavish Spaces Pvt Ltd    3       1805            5500   \n",
       "1553  Lavish Spaces Pvt Ltd    3       1805            5500   \n",
       "1693  Lavish Spaces Pvt Ltd    3       1800            5950   \n",
       "1694  Lavish Spaces Pvt Ltd    3       1800            5950   \n",
       "\n",
       "      Total_Price(in_lakhs)     Location Construction_Status  \n",
       "3                    100.00  Uttarahalli       Ready to move  \n",
       "257                  140.00  Uttarahalli  Under Construction  \n",
       "260                  140.00  Uttarahalli  Under Construction  \n",
       "262                  135.00  Uttarahalli  Under Construction  \n",
       "267                  136.00  Uttarahalli  Under Construction  \n",
       "270                  135.00  Uttarahalli  Under Construction  \n",
       "1446                  99.27  Uttarahalli       Ready to move  \n",
       "1553                  99.27  Uttarahalli       Ready to move  \n",
       "1693                 107.00  Uttarahalli       Ready to move  \n",
       "1694                 107.00  Uttarahalli       Ready to move  "
      ]
     },
     "execution_count": 40,
     "metadata": {},
     "output_type": "execute_result"
    }
   ],
   "source": [
    "number_of_bhk=3\n",
    "area=1800\n",
    "location='Uttarahalli'\n",
    "bangalore_flats[(bangalore_flats['BHK']==number_of_bhk) & (bangalore_flats['Area_sqft']>=area) & \n",
    "                (bangalore_flats['Location']==location)]"
   ]
  },
  {
   "cell_type": "markdown",
   "id": "e1a31ada",
   "metadata": {},
   "source": [
    "## Case 2:"
   ]
  },
  {
   "cell_type": "code",
   "execution_count": 41,
   "id": "c6c624ea",
   "metadata": {},
   "outputs": [
    {
     "name": "stdout",
     "output_type": "stream",
     "text": [
      "Enter the construction status (New , Resale , Ready to move , Under Construction) : Resale\n",
      "Enter the minimum Total_Price(in lakhs) : 100\n",
      "Enter the maximum Total_Price(in lakhs) : 200\n"
     ]
    },
    {
     "data": {
      "text/html": [
       "<div>\n",
       "<style scoped>\n",
       "    .dataframe tbody tr th:only-of-type {\n",
       "        vertical-align: middle;\n",
       "    }\n",
       "\n",
       "    .dataframe tbody tr th {\n",
       "        vertical-align: top;\n",
       "    }\n",
       "\n",
       "    .dataframe thead th {\n",
       "        text-align: right;\n",
       "    }\n",
       "</style>\n",
       "<table border=\"1\" class=\"dataframe\">\n",
       "  <thead>\n",
       "    <tr style=\"text-align: right;\">\n",
       "      <th></th>\n",
       "      <th>Builder</th>\n",
       "      <th>BHK</th>\n",
       "      <th>Area_sqft</th>\n",
       "      <th>Price_Per_sqft</th>\n",
       "      <th>Total_Price(in_lakhs)</th>\n",
       "      <th>Location</th>\n",
       "      <th>Construction_Status</th>\n",
       "    </tr>\n",
       "  </thead>\n",
       "  <tbody>\n",
       "    <tr>\n",
       "      <th>469</th>\n",
       "      <td>seller</td>\n",
       "      <td>3</td>\n",
       "      <td>1200</td>\n",
       "      <td>10500</td>\n",
       "      <td>126.0</td>\n",
       "      <td>BTM Layout</td>\n",
       "      <td>Resale</td>\n",
       "    </tr>\n",
       "    <tr>\n",
       "      <th>471</th>\n",
       "      <td>seller</td>\n",
       "      <td>3</td>\n",
       "      <td>1200</td>\n",
       "      <td>9208</td>\n",
       "      <td>110.0</td>\n",
       "      <td>Jakkur</td>\n",
       "      <td>Resale</td>\n",
       "    </tr>\n",
       "    <tr>\n",
       "      <th>476</th>\n",
       "      <td>seller</td>\n",
       "      <td>3</td>\n",
       "      <td>1200</td>\n",
       "      <td>10000</td>\n",
       "      <td>120.0</td>\n",
       "      <td>Hulimavu</td>\n",
       "      <td>Resale</td>\n",
       "    </tr>\n",
       "    <tr>\n",
       "      <th>479</th>\n",
       "      <td>seller</td>\n",
       "      <td>3</td>\n",
       "      <td>2400</td>\n",
       "      <td>8250</td>\n",
       "      <td>198.0</td>\n",
       "      <td>Off Bannerghatta Road</td>\n",
       "      <td>Resale</td>\n",
       "    </tr>\n",
       "    <tr>\n",
       "      <th>532</th>\n",
       "      <td>seller</td>\n",
       "      <td>3</td>\n",
       "      <td>1440</td>\n",
       "      <td>10069</td>\n",
       "      <td>145.0</td>\n",
       "      <td>Annapurneshwari Nagar</td>\n",
       "      <td>Resale</td>\n",
       "    </tr>\n",
       "    <tr>\n",
       "      <th>544</th>\n",
       "      <td>seller</td>\n",
       "      <td>3</td>\n",
       "      <td>2800</td>\n",
       "      <td>6500</td>\n",
       "      <td>182.0</td>\n",
       "      <td>Hulimavu</td>\n",
       "      <td>Resale</td>\n",
       "    </tr>\n",
       "    <tr>\n",
       "      <th>545</th>\n",
       "      <td>seller</td>\n",
       "      <td>3</td>\n",
       "      <td>600</td>\n",
       "      <td>27500</td>\n",
       "      <td>165.0</td>\n",
       "      <td>HSR Layout</td>\n",
       "      <td>Resale</td>\n",
       "    </tr>\n",
       "    <tr>\n",
       "      <th>566</th>\n",
       "      <td>seller</td>\n",
       "      <td>3</td>\n",
       "      <td>1200</td>\n",
       "      <td>9550</td>\n",
       "      <td>114.0</td>\n",
       "      <td>J. P. Nagar</td>\n",
       "      <td>Resale</td>\n",
       "    </tr>\n",
       "    <tr>\n",
       "      <th>571</th>\n",
       "      <td>seller</td>\n",
       "      <td>3</td>\n",
       "      <td>1440</td>\n",
       "      <td>10069</td>\n",
       "      <td>145.0</td>\n",
       "      <td>Harohalli</td>\n",
       "      <td>Resale</td>\n",
       "    </tr>\n",
       "    <tr>\n",
       "      <th>618</th>\n",
       "      <td>seller</td>\n",
       "      <td>3</td>\n",
       "      <td>4000</td>\n",
       "      <td>3500</td>\n",
       "      <td>140.0</td>\n",
       "      <td>Kuduregere</td>\n",
       "      <td>Resale</td>\n",
       "    </tr>\n",
       "  </tbody>\n",
       "</table>\n",
       "</div>"
      ],
      "text/plain": [
       "    Builder  BHK  Area_sqft  Price_Per_sqft  Total_Price(in_lakhs)  \\\n",
       "469  seller    3       1200           10500                  126.0   \n",
       "471  seller    3       1200            9208                  110.0   \n",
       "476  seller    3       1200           10000                  120.0   \n",
       "479  seller    3       2400            8250                  198.0   \n",
       "532  seller    3       1440           10069                  145.0   \n",
       "544  seller    3       2800            6500                  182.0   \n",
       "545  seller    3        600           27500                  165.0   \n",
       "566  seller    3       1200            9550                  114.0   \n",
       "571  seller    3       1440           10069                  145.0   \n",
       "618  seller    3       4000            3500                  140.0   \n",
       "\n",
       "                  Location Construction_Status  \n",
       "469             BTM Layout              Resale  \n",
       "471                 Jakkur              Resale  \n",
       "476               Hulimavu              Resale  \n",
       "479  Off Bannerghatta Road              Resale  \n",
       "532  Annapurneshwari Nagar              Resale  \n",
       "544               Hulimavu              Resale  \n",
       "545             HSR Layout              Resale  \n",
       "566            J. P. Nagar              Resale  \n",
       "571              Harohalli              Resale  \n",
       "618             Kuduregere              Resale  "
      ]
     },
     "execution_count": 41,
     "metadata": {},
     "output_type": "execute_result"
    }
   ],
   "source": [
    "construction_status=(input(\"Enter the construction status (New , Resale , Ready to move , Under Construction) : \"))\n",
    "minimum_price=float(input(\"Enter the minimum Total_Price(in lakhs) : \"))\n",
    "miximum_price=float(input(\"Enter the maximum Total_Price(in lakhs) : \"))\n",
    "bangalore_flats[(bangalore_flats['Construction_Status']==construction_status) &\n",
    "                (bangalore_flats['Total_Price(in_lakhs)']>=minimum_price) & \n",
    "                (bangalore_flats['Total_Price(in_lakhs)']<=miximum_price)].head(10)"
   ]
  },
  {
   "cell_type": "markdown",
   "id": "1b0bd98f",
   "metadata": {},
   "source": [
    "# Conclusion :"
   ]
  },
  {
   "cell_type": "markdown",
   "id": "a586fb00",
   "metadata": {},
   "source": [
    "- We have 51.39%  of the properties are 2 bhk properties.\n",
    "- We have 37.35%  of the properties are 3 bhk properties.\n",
    "- We have 6.72%  of the properties are 4 bhk properties.\n",
    "- We have 4.74%  of the properties are 5 bhk properties.\n",
    "- We have maximaum number of flats are ready to move.\n",
    "- Maximum number of flats in Uttarahalli , Bangalore.\n",
    "- The Lavish Spaces pvt Ltd is the construction company  who have maximum number of properties\n",
    "- Maximum number of properties have of area sqft within the range of 900 sqft to 1500 sqft\n",
    "- Maximum number of properties have of price per sqft within the range of price 4500 per sqft to price 7600 per sqft\n",
    "- Maximum number of properties have of Total price (in lakhs) within the range of Total price (in lakhs): 30 to Total price (in lakhs): 90\n",
    "- All the numarical columns have positive correlation\n",
    "- As the area in sqft increases the total price increases\n",
    "- As the price per sqft increases the total price increases\n",
    "- If the area in sqft increase the total price also incerases\n",
    "- In New  and Resale properties we have only 3 BHK properties avialable\n",
    "- Most of the properties are in the area range 750 sqft to 1750 sqft have the price range 25 lakhs to 120 lakhs \n",
    "- minimum price of 2 BHK is 18 (in lakhs)\n",
    "- minimum price of 3 BHK is 33 (in lakhs)\n",
    "- minimum price of 4 BHK is 57 (in lakhs)\n",
    "- minimum price of 5 BHK is 69 (in lakhs)\n"
   ]
  },
  {
   "cell_type": "code",
   "execution_count": null,
   "id": "8a0752b3",
   "metadata": {},
   "outputs": [],
   "source": []
  }
 ],
 "metadata": {
  "kernelspec": {
   "display_name": "Python 3 (ipykernel)",
   "language": "python",
   "name": "python3"
  },
  "language_info": {
   "codemirror_mode": {
    "name": "ipython",
    "version": 3
   },
   "file_extension": ".py",
   "mimetype": "text/x-python",
   "name": "python",
   "nbconvert_exporter": "python",
   "pygments_lexer": "ipython3",
   "version": "3.9.12"
  }
 },
 "nbformat": 4,
 "nbformat_minor": 5
}
